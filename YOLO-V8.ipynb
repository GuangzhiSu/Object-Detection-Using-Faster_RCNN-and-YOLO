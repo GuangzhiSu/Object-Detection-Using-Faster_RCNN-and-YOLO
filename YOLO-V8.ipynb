{
 "cells": [
  {
   "cell_type": "markdown",
   "metadata": {},
   "source": [
    "**Prepare the dataset**"
   ]
  },
  {
   "cell_type": "code",
   "execution_count": 5,
   "metadata": {},
   "outputs": [
    {
     "name": "stdout",
     "output_type": "stream",
     "text": [
      "Training set: 5 images\n",
      "Validation set: 2 images\n"
     ]
    }
   ],
   "source": [
    "import os\n",
    "import random\n",
    "import shutil\n",
    "\n",
    "# Define paths\n",
    "images_folder = \"yolo_data/images\"\n",
    "labels_folder = \"yolo_data/labels\"\n",
    "train_images_folder = \"yolo_data_split/images/train\"\n",
    "val_images_folder = \"yolo_data_split/images/val\"\n",
    "train_labels_folder = \"yolo_data_split/labels/train\"\n",
    "val_labels_folder = \"yolo_data_split/labels/val\"\n",
    "\n",
    "# Create directories for train and val splits\n",
    "os.makedirs(train_images_folder, exist_ok=True)\n",
    "os.makedirs(val_images_folder, exist_ok=True)\n",
    "os.makedirs(train_labels_folder, exist_ok=True)\n",
    "os.makedirs(val_labels_folder, exist_ok=True)\n",
    "\n",
    "# Get list of image files and corresponding labels\n",
    "image_files = os.listdir(images_folder)\n",
    "image_files = [f for f in image_files if f.endswith(\".jpg\") or f.endswith(\".jpeg\") or f.endswith(\".png\")]  # Filter out only the image files\n",
    "\n",
    "# Shuffle the dataset\n",
    "random.seed(42)  # For reproducibility\n",
    "random.shuffle(image_files)\n",
    "\n",
    "# Define the split ratio\n",
    "train_ratio = 0.8  # 80% for training, 20% for validation\n",
    "split_index = int(len(image_files) * train_ratio)\n",
    "\n",
    "# Split the data\n",
    "train_images = image_files[:split_index]\n",
    "val_images = image_files[split_index:]\n",
    "\n",
    "# Move images and labels to corresponding folders\n",
    "def move_files(image_list, destination_image_folder, destination_label_folder):\n",
    "    for image_file in image_list:\n",
    "        # Move the image file\n",
    "        image_path = os.path.join(images_folder, image_file)\n",
    "        shutil.move(image_path, os.path.join(destination_image_folder, image_file))\n",
    "        \n",
    "        # Move the corresponding label file\n",
    "        label_file = image_file.replace(\".jpg\", \".txt\").replace(\".jpeg\", \".txt\").replace(\".png\", \".txt\")\n",
    "        label_path = os.path.join(labels_folder, label_file)\n",
    "        shutil.move(label_path, os.path.join(destination_label_folder, label_file))\n",
    "\n",
    "# Move training data\n",
    "move_files(train_images, train_images_folder, train_labels_folder)\n",
    "\n",
    "# Move validation data\n",
    "move_files(val_images, val_images_folder, val_labels_folder)\n",
    "\n",
    "print(f\"Training set: {len(train_images)} images\")\n",
    "print(f\"Validation set: {len(val_images)} images\")\n"
   ]
  },
  {
   "cell_type": "code",
   "execution_count": null,
   "metadata": {},
   "outputs": [],
   "source": [
    "from ultralytics import YOLO\n",
    "\n",
    "# Load a model\n",
    "model = YOLO(\"yolov8n.yaml\")  # build a new model from scratch\n",
    "model = YOLO(\"yolov8n.pt\")  # load a pretrained model (recommended for training)\n",
    "\n",
    "# Use the model\n",
    "results = model.train(data=\"config.yaml\", epochs=3)  # train the model\n",
    "results = model.val()  # evaluate model performance on the validation set\n",
    "results = model(\"https://ultralytics.com/images/bus.jpg\")  # predict on an image\n",
    "success = model.export(format=\"onnx\")  # export the model to ONNX format"
   ]
  }
 ],
 "metadata": {
  "kernelspec": {
   "display_name": "torch",
   "language": "python",
   "name": "python3"
  },
  "language_info": {
   "codemirror_mode": {
    "name": "ipython",
    "version": 3
   },
   "file_extension": ".py",
   "mimetype": "text/x-python",
   "name": "python",
   "nbconvert_exporter": "python",
   "pygments_lexer": "ipython3",
   "version": "3.8.20"
  }
 },
 "nbformat": 4,
 "nbformat_minor": 2
}
